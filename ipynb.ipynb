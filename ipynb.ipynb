{
 "cells": [
  {
   "cell_type": "markdown",
   "metadata": {},
   "source": [
    "\n",
    "# Otsu Method "
   ]
  },
  {
   "cell_type": "markdown",
   "metadata": {},
   "source": [
    "In this method we detect the edge's of the image "
   ]
  },
  {
   "cell_type": "code",
   "execution_count": 7,
   "metadata": {},
   "outputs": [],
   "source": [
    "from __future__ import absolute_import \n",
    "from __future__ import division\n",
    "from __future__ import print_function"
   ]
  },
  {
   "cell_type": "code",
   "execution_count": 8,
   "metadata": {},
   "outputs": [],
   "source": [
    "import cv2\n",
    "import pylab as plt\n",
    "import numpy as np"
   ]
  },
  {
   "cell_type": "code",
   "execution_count": 9,
   "metadata": {},
   "outputs": [],
   "source": [
    "def varienceCalculate(average, histgram):\n",
    "    vrience = 0\n",
    "    for i in range(len(histgram)):\n",
    "        varience += (histgram[i] - average) ** 2\n",
    "    varience /= len(histgram)\n",
    "    return variance"
   ]
  },
  {
   "cell_type": "code",
   "execution_count": 10,
   "metadata": {},
   "outputs": [
    {
     "data": {
      "text/plain": [
       "array([[0.18378816, 0.62365457],\n",
       "       [0.64427061, 0.28249479],\n",
       "       [0.17764938, 0.38345186],\n",
       "       [0.25953883, 0.26070406],\n",
       "       [0.85285631, 0.17428108],\n",
       "       [0.13030021, 0.07559117],\n",
       "       [0.06567812, 0.11171922],\n",
       "       [0.41438987, 0.87980025],\n",
       "       [0.91101346, 0.54932327],\n",
       "       [0.67313316, 0.15695836],\n",
       "       [0.49003985, 0.32311303],\n",
       "       [0.16716553, 0.665577  ]])"
      ]
     },
     "execution_count": 10,
     "metadata": {},
     "output_type": "execute_result"
    }
   ],
   "source": [
    "import numpy as np\n",
    "a = np.random.rand(12,2)\n",
    "a"
   ]
  },
  {
   "cell_type": "code",
   "execution_count": 11,
   "metadata": {},
   "outputs": [
    {
     "data": {
      "text/plain": [
       "array([[0.01531568, 0.05197121],\n",
       "       [0.05368922, 0.02354123],\n",
       "       [0.01480411, 0.03195432],\n",
       "       [0.02162824, 0.02172534],\n",
       "       [0.07107136, 0.01452342],\n",
       "       [0.01085835, 0.00629926],\n",
       "       [0.00547318, 0.00930994],\n",
       "       [0.03453249, 0.07331669],\n",
       "       [0.07591779, 0.04577694],\n",
       "       [0.05609443, 0.01307986],\n",
       "       [0.04083665, 0.02692609],\n",
       "       [0.01393046, 0.05546475]])"
      ]
     },
     "execution_count": 11,
     "metadata": {},
     "output_type": "execute_result"
    }
   ],
   "source": [
    "a/=len(a)\n",
    "a"
   ]
  },
  {
   "cell_type": "code",
   "execution_count": 12,
   "metadata": {},
   "outputs": [
    {
     "data": {
      "text/plain": [
       "1.0"
      ]
     },
     "execution_count": 12,
     "metadata": {},
     "output_type": "execute_result"
    }
   ],
   "source": [
    "a = 12\n",
    "a/= a\n",
    "a"
   ]
  },
  {
   "cell_type": "code",
   "execution_count": 13,
   "metadata": {},
   "outputs": [],
   "source": [
    "def averageAndpixelSumCalculate(histgram):\n",
    "    average = pixelSum = 0\n",
    "    for i in range(len(histgram)):\n",
    "        pixelSum += histgram[i]\n",
    "        brightnessValue = histgram[i] * i\n",
    "    average = brightnessValue / len(histgram)\n",
    "    return pixelSum, average"
   ]
  },
  {
   "cell_type": "code",
   "execution_count": 14,
   "metadata": {},
   "outputs": [],
   "source": [
    "def within_betweenCV(pixelSum1, average1, variance1, pixelSum2, average2, variance2):\n",
    "    betweenClassVariance = (pixelSum1 * pixelSum2 * ((average1 - average2)**2)/((pixelSum1 + pixelSum2)**2))\n",
    "    withinClassVariance = (pixelSum1 * varience1 + pixelSum2 * varience2) /(pixelSum1 + pixelSum2)\n",
    "    return betweenClassVariance, withClassVariance"
   ]
  },
  {
   "cell_type": "code",
   "execution_count": null,
   "metadata": {},
   "outputs": [],
   "source": []
  },
  {
   "cell_type": "code",
   "execution_count": 15,
   "metadata": {},
   "outputs": [],
   "source": [
    "def calculateAll(blacList, whiteList):\n",
    "    b_size, b_average = averageAndpixelSumCalculate(blackList)\n",
    "    w_size, w_average = averageAndpixelSumCalculate(whiteList)\n",
    "    \n",
    "    b_variance = varianceCalculate(b_average, blacklist)\n",
    "    w_variance = varianceCalculate(w_average, whiteList)\n",
    "    \n",
    "    betweenCV, withinCV = within_beweenCV(b_size, b_average, b_variance, w_size, w_variance)\n",
    "    \n",
    "    totalVariance = betweenCV + withinCV\n",
    "    seperationMetrics = betweenCV / (totalVariance - betweenCV)\n",
    "    return separationMetrics"
   ]
  },
  {
   "cell_type": "code",
   "execution_count": 16,
   "metadata": {},
   "outputs": [],
   "source": [
    "def main():\n",
    "    image_path = \"D:/AI_for_health/chest_X_rays/images_001/images/00000013_036.png\"\n",
    "    image = cv2.imread(image_path,0)\n",
    "    histgram = cv2.calHist([image], [0], None, [256], [0,256])\n",
    "    size = 256\n",
    "    listSM = [0 for i in range(size)]\n",
    "    for i in range(size):\n",
    "        if i != 0 and i != size-1:\n",
    "            blackList = histgram[0:i]\n",
    "            whiteList = histgram[i:size]\n",
    "            listSM[i] = calculateAll(blackList, whiteList)\n",
    "        elif i == 0 or  i == size-1:\n",
    "            listSM[i] = 0\n",
    "    maxValue = 0\n",
    "    for i in range(size):\n",
    "        if listSM[i] > maxValue:\n",
    "            maxValue = listSM[i]\n",
    "            maxValueIndex = i\n",
    "        print(\"Treshold\", maxValueIndex, \"Desu\")\n",
    "        \n",
    "        output_otsu = np.zeros((len(image), len(image[0])))\n",
    "        for i in range(len(image)):\n",
    "            for j in range(len(image[0])):\n",
    "                if image[i][j] > maxValueIndex:\n",
    "                    output_otsu[i][j] = 225\n",
    "                else:\n",
    "                    output_otsu[i][j] = 0\n",
    "                    \n",
    "    average_histgram = int(len(histgram)/2)\n",
    "    output_average = image.copy()\n",
    "    output_average[output_average >= average_histgram] = 255\n",
    "    output_average[output_average < average_histgram] = 0\n",
    "    # Adaptive gaussian Threshold\n",
    "    aGH = cv2.adaptiveThreshold(image, 255, cv2.ADAPTIVE_THRESH_GAUSSIAN_C, cv2.THRESH_BINARY, 89, 7)\n",
    "    \n",
    "    cv2.imwrite(\"gray.jpj\", image)\n",
    "    cv2.imwrite(\"average.jpg\", output_average)\n",
    "    cv2.imwrite(\"otsu.jpg\", output_otsu)\n",
    "    cv2.imwrite(\"Adaptiv_Gaussian_Thresholding.jpg\", aGH)\n",
    "    \n",
    "    cv2.imshow(\"input\", image)\n",
    "    cv2.imshow(\"average\", output_average)\n",
    "    cv2.imshow(\"otsu\", output_otsu)\n",
    "    cv2.imshow(\"adaptive gaussian\", aGH)\n",
    "    \n",
    "    plt.plot(histgram)                                      \n",
    "    plt.axvline(x=maxValueIndex, color='red', label='otsu') \n",
    "    plt.axvline(x=average_histgram, color='green', label='average')\n",
    "    plt.legend(loc='upper right')                           \n",
    "    plt.title(\"histgram of brightness\")                     \n",
    "    plt.xlabel(\"brightness\")                                \n",
    "    plt.ylabel(\"frequency\")                                 \n",
    "    plt.xlim([0, 256])                                      \n",
    "    plt.show()\n",
    "    \n",
    "    if __name__ == '__main__':\n",
    "        main()"
   ]
  },
  {
   "cell_type": "code",
   "execution_count": 20,
   "metadata": {},
   "outputs": [],
   "source": [
    "from __future__ import absolute_import\n",
    "from __future__ import division\n",
    "from __future__ import print_function\n",
    "\n",
    "import cv2\n",
    "import pylab as plt\n",
    "import numpy as np\n",
    "\n",
    "def varianceCalculate(average, histgram):\n",
    "    #分散を返す\n",
    "    variance = 0\n",
    "    for i in range(len(histgram)):\n",
    "        variance += (histgram[i] - average) ** 2\n",
    "\n",
    "    variance /= len(histgram)\n",
    "\n",
    "    return variance\n",
    "\n",
    "def averageAndpixelSumCalculate(histgram):\n",
    "    #平均と画素数の合計を返す\n",
    "    average = pixelSum = 0\n",
    "    for i in range(len(histgram)):\n",
    "        pixelSum += histgram[i]             #ピクセル総数\n",
    "        brightnessValue = histgram[i] * i   #輝度値の合計\n",
    "\n",
    "    average = brightnessValue / len(histgram)\n",
    "\n",
    "    return pixelSum, average\n",
    "\n",
    "def within_betweenCV(pixelSum1, average1, variance1, pixelSum2, average2, variance2):\n",
    "    #クラス間分散&クラス内分散を返す\n",
    "\n",
    "    betweenClassVariance = (pixelSum1 * pixelSum2 * ((average1 - average2) ** 2) ) / ((pixelSum1 + pixelSum2) ** 2)#クラス間分散\n",
    "\n",
    "    withinClassVariance = (pixelSum1 * variance1 + pixelSum2 * variance2) / (pixelSum1 + pixelSum2)#クラス内分散\n",
    "\n",
    "    return betweenClassVariance, withinClassVariance\n",
    "\n",
    "def calculateAll(blackList, whiteList):\n",
    "    #計算に関する関数を実行\n",
    "    b_size, b_average = averageAndpixelSumCalculate(blackList)\n",
    "    w_size, w_average = averageAndpixelSumCalculate(whiteList)\n",
    "\n",
    "    b_variance = varianceCalculate(b_average, blackList)\n",
    "    w_variance = varianceCalculate(w_average, whiteList)\n",
    "\n",
    "    betweenCV, withinCV = within_betweenCV(b_size, b_average, b_variance, w_size, w_average, w_variance)#クラス間分散&クラス内分散\n",
    "\n",
    "    totalVariance = betweenCV + withinCV#全分散\n",
    "    separationMetrics = betweenCV / (totalVariance - betweenCV)#クラス間分散とクラス内分散の比：分散度を計算\n",
    "\n",
    "    return separationMetrics\n"
   ]
  },
  {
   "cell_type": "code",
   "execution_count": 21,
   "metadata": {},
   "outputs": [
    {
     "name": "stdout",
     "output_type": "stream",
     "text": [
      "閾値は 207 です\n"
     ]
    },
    {
     "data": {
      "image/png": "[encoded data removed]",
      "text/plain": [
       "<Figure size 432x288 with 1 Axes>"
      ]
     },
     "metadata": {
      "needs_background": "light"
     },
     "output_type": "display_data"
    }
   ],
   "source": [
    "def main():\n",
    "    #ファイル読み込み_グレイスケールで読み込み\n",
    "    image_path = \"D:/AI_for_health/chest_X_rays/images_001/images/00000001_002.png\"                               #読み込む画像の名前\n",
    "    image = cv2.imread(image_path, 0)                       #画像を読み込んでnumpy型のリストに格納\n",
    "\n",
    "    #ヒストグラムの作成\n",
    "    histgram = cv2.calcHist([image], [0], None, [256], [0, 256])\n",
    "\n",
    "    #分離度を求める\n",
    "    size = 256\n",
    "    listSM = [0 for i in range(size)]                       #分離度のリスト listSM=np.zeros(size)\n",
    "    for i in range(size):\n",
    "        if i != 0 and i != size-1:\n",
    "            blackList = histgram[0: i]                      #輝度の小さい方のリスト_blackList\n",
    "            whiteList = histgram[i: size]                   #輝度の大きい方のリスト_whiteList\n",
    "            listSM[i] = calculateAll(blackList, whiteList)  #分散度\n",
    "        elif i == 0 or i == size-1:\n",
    "            listSM[i] = 0                                   #２つのリストに分けられないときは例外処理\n",
    "\n",
    "    #最大の分離度から閾値を求める\n",
    "    maxValue = 0                                            #最大の分離度\n",
    "    for i in range(size):\n",
    "        #print(\"輝度値:\", i, \"分離度=\", listSM[i])            #debug\n",
    "        if listSM[i] > maxValue:\n",
    "            maxValue = listSM[i]\n",
    "            maxValueIndex = i                               #最大の分散度のインデックスを保存\n",
    "    print(\"閾値は\", maxValueIndex, \"です\")\n",
    "\n",
    "    #求めた閾値を基に画像の２値化を行う\n",
    "    output_otsu = np.zeros((len(image), len(image[0])))    #大津メソッドの出力に使う配列\n",
    "    for i in range(len(image)):\n",
    "        for j in range(len(image[0])):\n",
    "            if image[i][j] > maxValueIndex:\n",
    "                output_otsu[i][j] = 255                     #閾値より大きいときは255\n",
    "            else:\n",
    "                output_otsu[i][j] = 0                       #閾値よりも小さいときは０\n",
    "\n",
    "\n",
    "    #ヒストグラムの輝度値の真ん中の値を閾値として２値化した画像の作成\n",
    "    average_histgram = int(len(histgram) / 2)               #ヒストグラムの長さの半分をint型で取得\n",
    "    output_average = image.copy()                           #単純な２値化による出力に使う配列\n",
    "    output_average[output_average >= average_histgram] = 255                  #numpyで短く書ける_大きい要素はすべて255\n",
    "    output_average[output_average < average_histgram] = 0                     #numpyで短く書ける_任意の値より小さい要素はすべてo\n",
    "\n",
    "\n",
    "    #Adaptive Gaussian Thresholodingを用いた２値化(オプションで追加)\n",
    "    #引数(２値化するリスト、条件を満たす要素に割り当てる値、閾値決定方法、変換手法、近傍どれくらい見るか、加重平均から引く値)\n",
    "    aGH = cv2.adaptiveThreshold(image, 255, cv2.ADAPTIVE_THRESH_GAUSSIAN_C, cv2.THRESH_BINARY, 89, 7)\n",
    "\n",
    "\n",
    "    #画像の保存\n",
    "    cv2.imwrite(\"gray.jpg\", image)                          #グレイスケール\n",
    "    cv2.imwrite(\"average.jpg\", output_average)              #静的な閾値使用\n",
    "    cv2.imwrite(\"otsu.jpg\", output_otsu)                    #大津メソッド\n",
    "    cv2.imwrite(\"Adaptive_Gaussian_Thresholoding.jpg\", aGH) #OpenCVの動的な閾値使用\n",
    "\n",
    "    #画像の表示\n",
    "    cv2.imshow(\"input\", image)                              #グレイスケール\n",
    "    cv2.imshow(\"average\", output_average)                   #静的な閾値使用\n",
    "    cv2.imshow(\"otsu\", output_otsu)                         #大津メソッド\n",
    "    cv2.imshow(\"adaptive gaussian\", aGH)                    #OpenCVの動的な閾値使用\n",
    "\n",
    "    #ヒストグラムの出力\n",
    "    plt.plot(histgram)                                      #ヒストグラムの表示\n",
    "    plt.axvline(x=maxValueIndex, color='red', label='otsu') #大津メソッドの閾値表示\n",
    "    plt.axvline(x=average_histgram, color='green', label='average')#静的な閾値表示\n",
    "    plt.legend(loc='upper right')                           #ラベルを表示\n",
    "    plt.title(\"histgram of brightness\")                     #タイトル\n",
    "    plt.xlabel(\"brightness\")                                #横軸ラベル\n",
    "    plt.ylabel(\"frequency\")                                 #縦軸ラベル\n",
    "    plt.xlim([0, 256])                                      #x軸の範囲設定\n",
    "    plt.show()\n",
    "\n",
    "if __name__ == '__main__':\n",
    "    main()"
   ]
  },
  {
   "cell_type": "markdown",
   "metadata": {},
   "source": [
    "# RSNA"
   ]
  },
  {
   "cell_type": "code",
   "execution_count": 1,
   "metadata": {},
   "outputs": [],
   "source": [
    "!pip3 install -q pydicom\n",
    "!pip3 install -q tqdm\n",
    "!pip3 install -q imgaug"
   ]
  },
  {
   "cell_type": "code",
   "execution_count": 2,
   "metadata": {},
   "outputs": [],
   "source": [
    "import os\n",
    "import sys\n",
    "import random\n",
    "import math\n",
    "import cv2\n",
    "import numpy as np\n",
    "import matplotlib.pyplot as plt\n",
    "import json\n",
    "import pydicom\n",
    "from imgaug import augmenters as iaa\n",
    "from tqdm import tqdm\n",
    "import pandas as pd\n",
    "import glob"
   ]
  },
  {
   "cell_type": "code",
   "execution_count": 3,
   "metadata": {},
   "outputs": [],
   "source": [
    "!pip3 install -q kaggle"
   ]
  },
  {
   "cell_type": "code",
   "execution_count": 4,
   "metadata": {},
   "outputs": [],
   "source": [
    "os.environ['KAGGLE_USERNAME']=\"\"\n",
    "os.environ[\"KAGGL_KEY\"]=\"\""
   ]
  },
  {
   "cell_type": "code",
   "execution_count": 5,
   "metadata": {},
   "outputs": [],
   "source": [
    "ROOT_DIR = os.path.abspath('C:/Users/vigne/AI_for_health_care/ml-lessons/lesson3-data')\n",
    "# Directory to save logs and trained model\n",
    "MODEL_DIR = os.path.join(ROOT_DIR, 'logs')\n",
    "\n",
    "if not os.path.exists(ROOT_DIR):\n",
    "    os.makedirs(ROOT_DIR)\n",
    "os.chdir(ROOT_DIR)"
   ]
  },
  {
   "cell_type": "code",
   "execution_count": 6,
   "metadata": {},
   "outputs": [
    {
     "name": "stderr",
     "output_type": "stream",
     "text": [
      "usage: kaggle competitions [-h]\n",
      "                           {list,files,download,submit,submissions,leaderboard}\n",
      "                           ...\n",
      "kaggle competitions: error: argument command: invalid choice: 'downloads' (choose from 'list', 'files', 'download', 'submit', 'submissions', 'leaderboard')\n"
     ]
    }
   ],
   "source": [
    "!kaggle competitions downloads -c rsna-pneumonia-detection-challenge"
   ]
  },
  {
   "cell_type": "code",
   "execution_count": 7,
   "metadata": {},
   "outputs": [
    {
     "name": "stdout",
     "output_type": "stream",
     "text": [
      "rsna-pneumonia-detection-challenge.zip: Skipping, found more recently modified local copy (use --force to force download)\n"
     ]
    }
   ],
   "source": [
    "!kaggle competitions download -c rsna-pneumonia-detection-challenge"
   ]
  },
  {
   "cell_type": "code",
   "execution_count": 8,
   "metadata": {},
   "outputs": [
    {
     "name": "stderr",
     "output_type": "stream",
     "text": [
      "'unzip' is not recognized as an internal or external command,\n",
      "operable program or batch file.\n",
      "'unzip' is not recognized as an internal or external command,\n",
      "operable program or batch file.\n",
      "'unzip' is not recognized as an internal or external command,\n",
      "operable program or batch file.\n"
     ]
    }
   ],
   "source": [
    "!unzip -q -o stage_1_test_images.zip -d stage_1_test_images\n",
    "!unzip -q -o stahe_1_train_images.zip -d stage_1_train_images\n",
    "!unzip -q -o stage_1_rain"
   ]
  },
  {
   "cell_type": "code",
   "execution_count": 9,
   "metadata": {},
   "outputs": [
    {
     "name": "stderr",
     "output_type": "stream",
     "text": [
      "fatal: destination path 'Mask_RCNN' already exists and is not an empty directory.\n"
     ]
    }
   ],
   "source": [
    "!git clone https://github.com/matterport/Mask_RCNN.git"
   ]
  },
  {
   "cell_type": "code",
   "execution_count": 10,
   "metadata": {},
   "outputs": [],
   "source": [
    "os.chdir(\"Mask_RCNN\")\n",
    "!pip install -q -r requirements.txt"
   ]
  },
  {
   "cell_type": "code",
   "execution_count": 11,
   "metadata": {},
   "outputs": [
    {
     "name": "stderr",
     "output_type": "stream",
     "text": [
      "WARNING:root:Fail load requirements file, so using default ones.\n",
      "zip_safe flag not set; analyzing archive contents...\n"
     ]
    }
   ],
   "source": [
    "!python setup.py -q install"
   ]
  },
  {
   "cell_type": "code",
   "execution_count": 12,
   "metadata": {},
   "outputs": [
    {
     "name": "stderr",
     "output_type": "stream",
     "text": [
      "Using TensorFlow backend.\n"
     ]
    }
   ],
   "source": [
    "# Import MASK CNN\n",
    "sys.path.append(os.path.join(ROOT_DIR, 'Mask_RCNN'))\n",
    "from mrcnn.config import Config\n",
    "from mrcnn import utils\n",
    "import mrcnn.model as modellib\n",
    "from mrcnn import visualize\n",
    "from mrcnn.model import log"
   ]
  },
  {
   "cell_type": "code",
   "execution_count": 13,
   "metadata": {},
   "outputs": [],
   "source": [
    "train_dicom_dir = os.path.join(ROOT_DIR, 'stage_1_train_images')\n",
    "test_dicom_dir = os.path.join(ROOT_DIR, 'stage_1_test_images')"
   ]
  },
  {
   "cell_type": "markdown",
   "metadata": {},
   "source": [
    "Some setup function and classes for Mask-RCNN\n",
    "dicom_fps is a list of the dicom image path and filenames\n",
    "image_annotions is a directory of the annotations keyed by the filenames\n",
    "parsing the dataset returns a list of the image filenames and the annotations dictonary"
   ]
  },
  {
   "cell_type": "code",
   "execution_count": 14,
   "metadata": {},
   "outputs": [],
   "source": [
    "def get_dicom_fps(dicom_dir):\n",
    "    dicom_fps = glob.glob(dicom_dir+'/'+'*.dcm')\n",
    "    return list(set(dicom_fps))\n",
    "def parse_dataset(dicom_dir, anns):\n",
    "    image_fps = get_dicom_fps(dicom_dir)\n",
    "    image_annotations = {fp: [] for  fp in image_fps}\n",
    "    for index, row in anns.iterrows():\n",
    "        fp = os.path.join(dicom_dir, row['patientId']+'.dcm')\n",
    "        image_annotations[fp].append(row)\n",
    "    return image_fps, image_annotations"
   ]
  },
  {
   "cell_type": "code",
   "execution_count": 15,
   "metadata": {},
   "outputs": [
    {
     "name": "stdout",
     "output_type": "stream",
     "text": [
      "\n",
      "Configurations:\n",
      "BACKBONE                       resnet50\n",
      "BACKBONE_STRIDES               [4, 8, 16, 32, 64]\n",
      "BATCH_SIZE                     8\n",
      "BBOX_STD_DEV                   [0.1 0.1 0.2 0.2]\n",
      "COMPUTE_BACKBONE_SHAPE         None\n",
      "DETECTION_MAX_INSTANCES        3\n",
      "DETECTION_MIN_CONFIDENCE       0.9\n",
      "DETECTION_NMS_THRESHOLD        0.1\n",
      "FPN_CLASSIF_FC_LAYERS_SIZE     1024\n",
      "GPU_COUNT                      1\n",
      "GRADIENT_CLIP_NORM             5.0\n",
      "IMAGES_PER_GPU                 8\n",
      "IMAGE_CHANNEL_COUNT            3\n",
      "IMAGE_MAX_DIM                  64\n",
      "IMAGE_META_SIZE                14\n",
      "IMAGE_MIN_DIM                  64\n",
      "IMAGE_MIN_SCALE                0\n",
      "IMAGE_RESIZE_MODE              square\n",
      "IMAGE_SHAPE                    [64 64  3]\n",
      "LEARNING_MOMENTUM              0.9\n",
      "LEARNING_RATE                  0.001\n",
      "LOSS_WEIGHTS                   {'rpn_class_loss': 1.0, 'rpn_bbox_loss': 1.0, 'mrcnn_class_loss': 1.0, 'mrcnn_bbox_loss': 1.0, 'mrcnn_mask_loss': 1.0}\n",
      "MASK_POOL_SIZE                 14\n",
      "MASK_SHAPE                     [28, 28]\n",
      "MAX_GT_INSTANCES               3\n",
      "MEAN_PIXEL                     [123.7 116.8 103.9]\n",
      "MINI_MASK_SHAPE                (56, 56)\n",
      "NAME                           pneumonia\n",
      "NUM_CLASSES                    2\n",
      "POOL_SIZE                      7\n",
      "POST_NMS_ROIS_INFERENCE        1000\n",
      "POST_NMS_ROIS_TRAINING         2000\n",
      "PRE_NMS_LIMIT                  6000\n",
      "ROI_POSITIVE_RATIO             0.33\n",
      "RPN_ANCHOR_RATIOS              [0.5, 1, 2]\n",
      "RPN_ANCHOR_SCALES              (32, 64)\n",
      "RPN_ANCHOR_STRIDE              1\n",
      "RPN_BBOX_STD_DEV               [0.1 0.1 0.2 0.2]\n",
      "RPN_NMS_THRESHOLD              0.7\n",
      "RPN_TRAIN_ANCHORS_PER_IMAGE    16\n",
      "STEPS_PER_EPOC                 100\n",
      "STEPS_PER_EPOCH                100\n",
      "TOP_DOWN_PYRAMID_SIZE          32\n",
      "TRAIN_BN                       False\n",
      "TRAIN_ROIS_PER_IMAGE           16\n",
      "USE_MINI_MASK                  True\n",
      "USE_RPN_ROIS                   True\n",
      "VALIDATION_STEPS               50\n",
      "WEIGHT_DECAY                   0.0001\n",
      "\n",
      "\n"
     ]
    }
   ],
   "source": [
    "# Following parameters have been selected to reduce running time \n",
    "# These are not optimal\n",
    "\n",
    "class DetectorConfig(Config):\n",
    "    \"\"\"Configure for training pneumonia detection on the RSNA pneumonia dataset.\n",
    "    Overrides values in the base Config class\"\"\"\n",
    "    \n",
    "    # Give the configuration a recognizable name\n",
    "    NAME = 'pneumonia'\n",
    "    \n",
    "    # Train on 1 GPU and 8 images per GPU, We can put multiple images on each\n",
    "    # GPU because the images are small. Batch size is 8 (GPUs * images/GPU)\n",
    "    GPU_COUNT = 1\n",
    "    IMAGES_PER_GPU = 8\n",
    "    \n",
    "    BACKBONE = 'resnet50'\n",
    "    \n",
    "    NUM_CLASSES = 2 # background + 1 pneumonia classes\n",
    "    \n",
    "    # Use small images for faster training. Set the limits of the small side\n",
    "    # the large side, and the determines te image shape\n",
    "    IMAGE_MIN_DIM = 64\n",
    "    IMAGE_MAX_DIM = 64\n",
    "    \n",
    "    RPN_ANCHOR_SCALES = (32,64)\n",
    "    \n",
    "    TRAIN_ROIS_PER_IMAGE = 16\n",
    "    \n",
    "    MAX_GT_INSTANCES = 3\n",
    "    \n",
    "    DETECTION_MAX_INSTANCES = 3\n",
    "    DETECTION_MIN_CONFIDENCE = 0.9\n",
    "    DETECTION_NMS_THRESHOLD = 0.1\n",
    "    \n",
    "    RPN_TRAIN_ANCHORS_PER_IMAGE = 16\n",
    "    STEPS_PER_EPOCH = 100\n",
    "    TOP_DOWN_PYRAMID_SIZE =32\n",
    "    STEPS_PER_EPOC = 100\n",
    "    \n",
    "config = DetectorConfig()\n",
    "config.display()   "
   ]
  },
  {
   "cell_type": "code",
   "execution_count": 16,
   "metadata": {},
   "outputs": [],
   "source": [
    "class DetectorDataset(utils.Dataset):\n",
    "    \"\"\"Dataset class for training pneumonia detection on the RSNA pneumonia\"\"\"\n",
    "    def __init__(self, image_fps, image_annotations, orig_height, orig_width):\n",
    "        super().__init__(self)\n",
    "        \n",
    "        # Add classes\n",
    "        self.add_class('pneumonia', 1, 'Lung Opacity')\n",
    "        \n",
    "        # add images\n",
    "        for i, fp in enumerate(image_fps):\n",
    "            annotations = image_annotations[fp]\n",
    "            self.add_image('pneumonia', image_id=i, path=fp,\n",
    "                          annotations=annotations, orig_height=orig_height, orig_width=orig_width)\n",
    "    def image_reference(self, image_id):\n",
    "        info = self.image_info[image_id]\n",
    "        return info['path']\n",
    "    \n",
    "    def load_image(self, image_id):\n",
    "        info = self.image_info[image_id]\n",
    "        fp = info['path']\n",
    "        ds = pydicom.read_file(fp)\n",
    "        image = ds.pixel_array\n",
    "        # If greyscale, Convert to RGB for consistency\n",
    "        if len(image.shape) != 3 or image.shape[2] != 3:\n",
    "            image = np.stack((image,)*3,-1)\n",
    "        return image\n",
    "    \n",
    "    def load_mask(self, image_id):\n",
    "        info = self.image_info[image_id]\n",
    "        annotations = info['anotations']\n",
    "        count = len(annotations)\n",
    "        if count == 0:\n",
    "            mask = np.zeros((info['orig_height'], info['orig_width'],1), dtype=np.unit8)\n",
    "            class_ids = np.zeros((1,), dtype=np.int32)\n",
    "        else:\n",
    "            mask = np.zeros((info['orig_height'], info['orig_width'], count), dtype=np.unit8)\n",
    "            class_ids = np.zeros((count,), dtype=np.int32)\n",
    "            for i, a in enumerate(annotations):\n",
    "                if a['Target'] == 1:\n",
    "                    x = int(a['x'])\n",
    "                    \n",
    "                    \n",
    "    "
   ]
  },
  {
   "cell_type": "code",
   "execution_count": 17,
   "metadata": {},
   "outputs": [
    {
     "data": {
      "text/plain": [
       "array([[9.20009542e-01, 7.10824727e-01, 5.17471406e-01, 9.90347988e-01,\n",
       "        3.85911152e-01, 3.43936474e-01, 8.26812862e-01, 9.60888795e-01,\n",
       "        1.46891793e-01, 2.51999618e-01],\n",
       "       [3.78298456e-01, 1.83739335e-01, 5.05649110e-02, 1.71793005e-02,\n",
       "        7.72559285e-01, 9.44366725e-01, 8.15449543e-01, 4.52879562e-01,\n",
       "        4.45126272e-01, 3.44193170e-02],\n",
       "       [5.68147265e-01, 9.40975776e-01, 5.82285557e-01, 4.45595053e-01,\n",
       "        2.35006463e-01, 9.76256951e-01, 2.97477251e-01, 6.16602661e-01,\n",
       "        9.91197971e-01, 4.84545224e-02],\n",
       "       [3.62158115e-01, 6.09186024e-01, 3.20099865e-01, 1.75509254e-01,\n",
       "        5.79635700e-01, 8.99465275e-01, 6.14394956e-01, 8.88317227e-01,\n",
       "        6.43236438e-01, 3.50259552e-01],\n",
       "       [2.22349372e-01, 1.98347431e-01, 8.53737546e-03, 2.29137163e-01,\n",
       "        3.66647526e-01, 8.25061395e-01, 5.43039395e-01, 3.64526724e-01,\n",
       "        8.57846468e-01, 1.70036428e-01],\n",
       "       [5.66603839e-01, 1.12783881e-01, 5.02473918e-01, 7.18228849e-02,\n",
       "        2.06511679e-01, 8.03750678e-01, 2.12467517e-01, 6.26351530e-02,\n",
       "        2.54047183e-01, 9.69630930e-02],\n",
       "       [7.52763829e-01, 7.85842119e-01, 2.74014940e-01, 6.23693997e-01,\n",
       "        7.36750046e-01, 9.36716128e-01, 9.51819289e-01, 5.26003043e-01,\n",
       "        5.98986626e-01, 5.48702259e-01],\n",
       "       [6.46204246e-01, 9.56294179e-01, 3.53755594e-01, 4.72183807e-01,\n",
       "        6.02337158e-01, 5.96301212e-01, 6.66646063e-01, 4.07982944e-02,\n",
       "        7.22142844e-01, 3.39382917e-01],\n",
       "       [2.83007309e-01, 2.79627037e-01, 4.19062320e-01, 5.52983699e-01,\n",
       "        2.02614385e-04, 4.83306471e-01, 5.63652322e-01, 2.28212836e-01,\n",
       "        6.44851350e-01, 2.41264465e-01],\n",
       "       [3.38199373e-01, 1.20218432e-01, 7.11276447e-02, 5.43398643e-01,\n",
       "        5.68699441e-01, 1.96557791e-02, 1.28202876e-01, 3.36209491e-02,\n",
       "        9.37874816e-01, 3.33530553e-01],\n",
       "       [5.50510650e-01, 6.22911367e-01, 3.69787418e-01, 3.95374760e-01,\n",
       "        1.95235277e-01, 3.97454593e-01, 6.29584479e-01, 9.68295182e-01,\n",
       "        2.15418317e-01, 5.78874122e-01],\n",
       "       [5.45724951e-01, 5.42180563e-01, 6.84686965e-01, 2.75203101e-01,\n",
       "        7.82744884e-01, 8.55323919e-01, 5.85493011e-01, 3.44788910e-01,\n",
       "        5.05785335e-01, 4.23226683e-01],\n",
       "       [8.87133153e-01, 7.98397423e-01, 7.75395260e-01, 7.18914758e-01,\n",
       "        3.19624237e-01, 1.77266659e-01, 2.47662292e-01, 6.76264965e-01,\n",
       "        9.97739023e-01, 7.56279093e-01],\n",
       "       [7.95861530e-01, 9.38731534e-01, 7.21655383e-01, 8.09404061e-01,\n",
       "        1.60295193e-01, 8.64392231e-01, 6.82720511e-01, 8.18572322e-01,\n",
       "        5.44731050e-01, 1.26553776e-01],\n",
       "       [6.91304932e-01, 7.32021646e-02, 1.04522206e-01, 1.62849410e-01,\n",
       "        1.86902948e-02, 3.14221857e-01, 8.67304933e-01, 2.75252672e-02,\n",
       "        4.12548421e-01, 6.90883183e-02],\n",
       "       [8.85568386e-01, 5.94432665e-01, 6.95348375e-01, 2.46233580e-01,\n",
       "        4.09295663e-01, 3.50036018e-01, 2.75927440e-01, 6.45044305e-01,\n",
       "        9.25078117e-01, 3.49728679e-01],\n",
       "       [4.57175179e-01, 4.73800270e-01, 9.53574181e-01, 3.92580338e-01,\n",
       "        2.72048977e-01, 9.00851760e-01, 3.80862671e-01, 7.69459957e-01,\n",
       "        7.98583275e-01, 2.17202106e-01],\n",
       "       [1.21291742e-01, 3.32086807e-01, 9.91482075e-01, 9.53808630e-02,\n",
       "        5.66668275e-01, 1.78991104e-01, 8.06952918e-01, 5.78328070e-01,\n",
       "        3.49218293e-01, 1.17301249e-01],\n",
       "       [2.44953860e-02, 1.88576919e-01, 1.54455468e-01, 8.48379126e-01,\n",
       "        2.61575163e-01, 4.44833460e-01, 8.12231941e-02, 1.79987109e-01,\n",
       "        2.90434793e-02, 2.90207838e-01],\n",
       "       [4.92361399e-01, 8.49346937e-01, 5.35308457e-01, 4.76084110e-01,\n",
       "        6.40233386e-01, 1.52597411e-01, 1.09145525e-01, 2.37721428e-01,\n",
       "        1.48596697e-02, 5.31232205e-01],\n",
       "       [2.52020437e-01, 1.29534484e-01, 9.59073704e-01, 2.91263331e-01,\n",
       "        1.10433481e-01, 6.42895332e-01, 8.96435506e-02, 8.86230016e-01,\n",
       "        4.78654768e-01, 8.74541834e-01],\n",
       "       [6.42560554e-01, 9.38837556e-01, 7.92051876e-02, 7.74695855e-01,\n",
       "        9.63111207e-01, 5.79079598e-01, 5.38473453e-01, 6.58976509e-01,\n",
       "        7.11642463e-01, 4.03549792e-01],\n",
       "       [2.86531001e-01, 6.10808061e-01, 2.32705878e-01, 3.81632118e-01,\n",
       "        6.87054306e-01, 6.53070030e-01, 7.78162037e-01, 3.20249696e-01,\n",
       "        4.19073348e-01, 3.57067373e-01],\n",
       "       [3.99236120e-01, 8.91857911e-01, 9.18343161e-01, 1.04419215e-01,\n",
       "        7.64783292e-01, 6.98457488e-01, 1.15060927e-01, 8.22393399e-01,\n",
       "        6.92003908e-01, 8.64766979e-01],\n",
       "       [5.89154539e-01, 3.82817457e-02, 2.34037976e-01, 6.14314505e-02,\n",
       "        5.72143480e-02, 8.80060284e-01, 8.38079197e-01, 6.42648413e-01,\n",
       "        5.61583733e-01, 6.73899295e-01],\n",
       "       [1.29117488e-01, 6.50597854e-02, 5.22347023e-01, 8.49724018e-01,\n",
       "        9.19677346e-02, 4.60288853e-01, 8.08630628e-01, 6.26105390e-02,\n",
       "        4.21228537e-01, 8.45171861e-01],\n",
       "       [3.12621619e-01, 7.04787757e-01, 1.22342560e-01, 7.72750409e-01,\n",
       "        2.83497895e-01, 3.60403872e-01, 7.72585324e-01, 7.01819672e-01,\n",
       "        6.98856583e-01, 6.14870457e-01],\n",
       "       [9.13664845e-01, 2.84426142e-01, 5.30637284e-01, 8.51337573e-01,\n",
       "        1.64830359e-01, 7.96975018e-01, 5.99835747e-01, 6.34893888e-01,\n",
       "        2.45861433e-01, 2.60727357e-01],\n",
       "       [1.91427240e-01, 8.59209155e-01, 4.68710653e-01, 4.57855291e-01,\n",
       "        8.36583821e-01, 1.52804478e-01, 5.38531832e-01, 9.38422072e-01,\n",
       "        4.84326020e-01, 8.83406303e-01],\n",
       "       [5.51759387e-02, 8.49929519e-01, 2.02980506e-01, 3.52572468e-01,\n",
       "        5.65503350e-01, 4.31281419e-01, 6.36589251e-02, 2.14218804e-01,\n",
       "        4.07585968e-01, 5.71887398e-01],\n",
       "       [5.61633004e-01, 5.76166855e-01, 5.91801489e-01, 4.30768978e-01,\n",
       "        3.53413193e-01, 2.01497709e-02, 7.92240743e-01, 9.75912001e-02,\n",
       "        9.20827101e-01, 9.68753876e-02],\n",
       "       [5.60391114e-01, 7.42073136e-01, 8.63220035e-01, 9.24977451e-01,\n",
       "        1.76839799e-01, 4.99292358e-01, 6.55144015e-01, 1.93449300e-01,\n",
       "        8.90921189e-01, 1.10748224e-01]])"
      ]
     },
     "execution_count": 17,
     "metadata": {},
     "output_type": "execute_result"
    }
   ],
   "source": [
    "s = np.random.rand(32,10)\n",
    "s"
   ]
  },
  {
   "cell_type": "code",
   "execution_count": 18,
   "metadata": {},
   "outputs": [
    {
     "data": {
      "text/plain": [
       "{0: [], 1: [], 2: [], 3: [], 4: [], 5: [], 6: [], 7: [], 8: [], 9: []}"
      ]
     },
     "execution_count": 18,
     "metadata": {},
     "output_type": "execute_result"
    }
   ],
   "source": [
    "sp = {fp: [] for fp in range(10)}\n",
    "sp"
   ]
  },
  {
   "cell_type": "code",
   "execution_count": 19,
   "metadata": {},
   "outputs": [
    {
     "data": {
      "text/plain": [
       "[0, 1, 2, 3, 4, 5, 6, 7, 8, 9]"
      ]
     },
     "execution_count": 19,
     "metadata": {},
     "output_type": "execute_result"
    }
   ],
   "source": [
    "xs = list(set(sp))\n",
    "xs"
   ]
  },
  {
   "cell_type": "code",
   "execution_count": 20,
   "metadata": {},
   "outputs": [
    {
     "data": {
      "text/plain": [
       "array([[[9.20009542e-01, 9.20009542e-01, 9.20009542e-01],\n",
       "        [7.10824727e-01, 7.10824727e-01, 7.10824727e-01],\n",
       "        [5.17471406e-01, 5.17471406e-01, 5.17471406e-01],\n",
       "        [9.90347988e-01, 9.90347988e-01, 9.90347988e-01],\n",
       "        [3.85911152e-01, 3.85911152e-01, 3.85911152e-01],\n",
       "        [3.43936474e-01, 3.43936474e-01, 3.43936474e-01],\n",
       "        [8.26812862e-01, 8.26812862e-01, 8.26812862e-01],\n",
       "        [9.60888795e-01, 9.60888795e-01, 9.60888795e-01],\n",
       "        [1.46891793e-01, 1.46891793e-01, 1.46891793e-01],\n",
       "        [2.51999618e-01, 2.51999618e-01, 2.51999618e-01]],\n",
       "\n",
       "       [[3.78298456e-01, 3.78298456e-01, 3.78298456e-01],\n",
       "        [1.83739335e-01, 1.83739335e-01, 1.83739335e-01],\n",
       "        [5.05649110e-02, 5.05649110e-02, 5.05649110e-02],\n",
       "        [1.71793005e-02, 1.71793005e-02, 1.71793005e-02],\n",
       "        [7.72559285e-01, 7.72559285e-01, 7.72559285e-01],\n",
       "        [9.44366725e-01, 9.44366725e-01, 9.44366725e-01],\n",
       "        [8.15449543e-01, 8.15449543e-01, 8.15449543e-01],\n",
       "        [4.52879562e-01, 4.52879562e-01, 4.52879562e-01],\n",
       "        [4.45126272e-01, 4.45126272e-01, 4.45126272e-01],\n",
       "        [3.44193170e-02, 3.44193170e-02, 3.44193170e-02]],\n",
       "\n",
       "       [[5.68147265e-01, 5.68147265e-01, 5.68147265e-01],\n",
       "        [9.40975776e-01, 9.40975776e-01, 9.40975776e-01],\n",
       "        [5.82285557e-01, 5.82285557e-01, 5.82285557e-01],\n",
       "        [4.45595053e-01, 4.45595053e-01, 4.45595053e-01],\n",
       "        [2.35006463e-01, 2.35006463e-01, 2.35006463e-01],\n",
       "        [9.76256951e-01, 9.76256951e-01, 9.76256951e-01],\n",
       "        [2.97477251e-01, 2.97477251e-01, 2.97477251e-01],\n",
       "        [6.16602661e-01, 6.16602661e-01, 6.16602661e-01],\n",
       "        [9.91197971e-01, 9.91197971e-01, 9.91197971e-01],\n",
       "        [4.84545224e-02, 4.84545224e-02, 4.84545224e-02]],\n",
       "\n",
       "       [[3.62158115e-01, 3.62158115e-01, 3.62158115e-01],\n",
       "        [6.09186024e-01, 6.09186024e-01, 6.09186024e-01],\n",
       "        [3.20099865e-01, 3.20099865e-01, 3.20099865e-01],\n",
       "        [1.75509254e-01, 1.75509254e-01, 1.75509254e-01],\n",
       "        [5.79635700e-01, 5.79635700e-01, 5.79635700e-01],\n",
       "        [8.99465275e-01, 8.99465275e-01, 8.99465275e-01],\n",
       "        [6.14394956e-01, 6.14394956e-01, 6.14394956e-01],\n",
       "        [8.88317227e-01, 8.88317227e-01, 8.88317227e-01],\n",
       "        [6.43236438e-01, 6.43236438e-01, 6.43236438e-01],\n",
       "        [3.50259552e-01, 3.50259552e-01, 3.50259552e-01]],\n",
       "\n",
       "       [[2.22349372e-01, 2.22349372e-01, 2.22349372e-01],\n",
       "        [1.98347431e-01, 1.98347431e-01, 1.98347431e-01],\n",
       "        [8.53737546e-03, 8.53737546e-03, 8.53737546e-03],\n",
       "        [2.29137163e-01, 2.29137163e-01, 2.29137163e-01],\n",
       "        [3.66647526e-01, 3.66647526e-01, 3.66647526e-01],\n",
       "        [8.25061395e-01, 8.25061395e-01, 8.25061395e-01],\n",
       "        [5.43039395e-01, 5.43039395e-01, 5.43039395e-01],\n",
       "        [3.64526724e-01, 3.64526724e-01, 3.64526724e-01],\n",
       "        [8.57846468e-01, 8.57846468e-01, 8.57846468e-01],\n",
       "        [1.70036428e-01, 1.70036428e-01, 1.70036428e-01]],\n",
       "\n",
       "       [[5.66603839e-01, 5.66603839e-01, 5.66603839e-01],\n",
       "        [1.12783881e-01, 1.12783881e-01, 1.12783881e-01],\n",
       "        [5.02473918e-01, 5.02473918e-01, 5.02473918e-01],\n",
       "        [7.18228849e-02, 7.18228849e-02, 7.18228849e-02],\n",
       "        [2.06511679e-01, 2.06511679e-01, 2.06511679e-01],\n",
       "        [8.03750678e-01, 8.03750678e-01, 8.03750678e-01],\n",
       "        [2.12467517e-01, 2.12467517e-01, 2.12467517e-01],\n",
       "        [6.26351530e-02, 6.26351530e-02, 6.26351530e-02],\n",
       "        [2.54047183e-01, 2.54047183e-01, 2.54047183e-01],\n",
       "        [9.69630930e-02, 9.69630930e-02, 9.69630930e-02]],\n",
       "\n",
       "       [[7.52763829e-01, 7.52763829e-01, 7.52763829e-01],\n",
       "        [7.85842119e-01, 7.85842119e-01, 7.85842119e-01],\n",
       "        [2.74014940e-01, 2.74014940e-01, 2.74014940e-01],\n",
       "        [6.23693997e-01, 6.23693997e-01, 6.23693997e-01],\n",
       "        [7.36750046e-01, 7.36750046e-01, 7.36750046e-01],\n",
       "        [9.36716128e-01, 9.36716128e-01, 9.36716128e-01],\n",
       "        [9.51819289e-01, 9.51819289e-01, 9.51819289e-01],\n",
       "        [5.26003043e-01, 5.26003043e-01, 5.26003043e-01],\n",
       "        [5.98986626e-01, 5.98986626e-01, 5.98986626e-01],\n",
       "        [5.48702259e-01, 5.48702259e-01, 5.48702259e-01]],\n",
       "\n",
       "       [[6.46204246e-01, 6.46204246e-01, 6.46204246e-01],\n",
       "        [9.56294179e-01, 9.56294179e-01, 9.56294179e-01],\n",
       "        [3.53755594e-01, 3.53755594e-01, 3.53755594e-01],\n",
       "        [4.72183807e-01, 4.72183807e-01, 4.72183807e-01],\n",
       "        [6.02337158e-01, 6.02337158e-01, 6.02337158e-01],\n",
       "        [5.96301212e-01, 5.96301212e-01, 5.96301212e-01],\n",
       "        [6.66646063e-01, 6.66646063e-01, 6.66646063e-01],\n",
       "        [4.07982944e-02, 4.07982944e-02, 4.07982944e-02],\n",
       "        [7.22142844e-01, 7.22142844e-01, 7.22142844e-01],\n",
       "        [3.39382917e-01, 3.39382917e-01, 3.39382917e-01]],\n",
       "\n",
       "       [[2.83007309e-01, 2.83007309e-01, 2.83007309e-01],\n",
       "        [2.79627037e-01, 2.79627037e-01, 2.79627037e-01],\n",
       "        [4.19062320e-01, 4.19062320e-01, 4.19062320e-01],\n",
       "        [5.52983699e-01, 5.52983699e-01, 5.52983699e-01],\n",
       "        [2.02614385e-04, 2.02614385e-04, 2.02614385e-04],\n",
       "        [4.83306471e-01, 4.83306471e-01, 4.83306471e-01],\n",
       "        [5.63652322e-01, 5.63652322e-01, 5.63652322e-01],\n",
       "        [2.28212836e-01, 2.28212836e-01, 2.28212836e-01],\n",
       "        [6.44851350e-01, 6.44851350e-01, 6.44851350e-01],\n",
       "        [2.41264465e-01, 2.41264465e-01, 2.41264465e-01]],\n",
       "\n",
       "       [[3.38199373e-01, 3.38199373e-01, 3.38199373e-01],\n",
       "        [1.20218432e-01, 1.20218432e-01, 1.20218432e-01],\n",
       "        [7.11276447e-02, 7.11276447e-02, 7.11276447e-02],\n",
       "        [5.43398643e-01, 5.43398643e-01, 5.43398643e-01],\n",
       "        [5.68699441e-01, 5.68699441e-01, 5.68699441e-01],\n",
       "        [1.96557791e-02, 1.96557791e-02, 1.96557791e-02],\n",
       "        [1.28202876e-01, 1.28202876e-01, 1.28202876e-01],\n",
       "        [3.36209491e-02, 3.36209491e-02, 3.36209491e-02],\n",
       "        [9.37874816e-01, 9.37874816e-01, 9.37874816e-01],\n",
       "        [3.33530553e-01, 3.33530553e-01, 3.33530553e-01]],\n",
       "\n",
       "       [[5.50510650e-01, 5.50510650e-01, 5.50510650e-01],\n",
       "        [6.22911367e-01, 6.22911367e-01, 6.22911367e-01],\n",
       "        [3.69787418e-01, 3.69787418e-01, 3.69787418e-01],\n",
       "        [3.95374760e-01, 3.95374760e-01, 3.95374760e-01],\n",
       "        [1.95235277e-01, 1.95235277e-01, 1.95235277e-01],\n",
       "        [3.97454593e-01, 3.97454593e-01, 3.97454593e-01],\n",
       "        [6.29584479e-01, 6.29584479e-01, 6.29584479e-01],\n",
       "        [9.68295182e-01, 9.68295182e-01, 9.68295182e-01],\n",
       "        [2.15418317e-01, 2.15418317e-01, 2.15418317e-01],\n",
       "        [5.78874122e-01, 5.78874122e-01, 5.78874122e-01]],\n",
       "\n",
       "       [[5.45724951e-01, 5.45724951e-01, 5.45724951e-01],\n",
       "        [5.42180563e-01, 5.42180563e-01, 5.42180563e-01],\n",
       "        [6.84686965e-01, 6.84686965e-01, 6.84686965e-01],\n",
       "        [2.75203101e-01, 2.75203101e-01, 2.75203101e-01],\n",
       "        [7.82744884e-01, 7.82744884e-01, 7.82744884e-01],\n",
       "        [8.55323919e-01, 8.55323919e-01, 8.55323919e-01],\n",
       "        [5.85493011e-01, 5.85493011e-01, 5.85493011e-01],\n",
       "        [3.44788910e-01, 3.44788910e-01, 3.44788910e-01],\n",
       "        [5.05785335e-01, 5.05785335e-01, 5.05785335e-01],\n",
       "        [4.23226683e-01, 4.23226683e-01, 4.23226683e-01]],\n",
       "\n",
       "       [[8.87133153e-01, 8.87133153e-01, 8.87133153e-01],\n",
       "        [7.98397423e-01, 7.98397423e-01, 7.98397423e-01],\n",
       "        [7.75395260e-01, 7.75395260e-01, 7.75395260e-01],\n",
       "        [7.18914758e-01, 7.18914758e-01, 7.18914758e-01],\n",
       "        [3.19624237e-01, 3.19624237e-01, 3.19624237e-01],\n",
       "        [1.77266659e-01, 1.77266659e-01, 1.77266659e-01],\n",
       "        [2.47662292e-01, 2.47662292e-01, 2.47662292e-01],\n",
       "        [6.76264965e-01, 6.76264965e-01, 6.76264965e-01],\n",
       "        [9.97739023e-01, 9.97739023e-01, 9.97739023e-01],\n",
       "        [7.56279093e-01, 7.56279093e-01, 7.56279093e-01]],\n",
       "\n",
       "       [[7.95861530e-01, 7.95861530e-01, 7.95861530e-01],\n",
       "        [9.38731534e-01, 9.38731534e-01, 9.38731534e-01],\n",
       "        [7.21655383e-01, 7.21655383e-01, 7.21655383e-01],\n",
       "        [8.09404061e-01, 8.09404061e-01, 8.09404061e-01],\n",
       "        [1.60295193e-01, 1.60295193e-01, 1.60295193e-01],\n",
       "        [8.64392231e-01, 8.64392231e-01, 8.64392231e-01],\n",
       "        [6.82720511e-01, 6.82720511e-01, 6.82720511e-01],\n",
       "        [8.18572322e-01, 8.18572322e-01, 8.18572322e-01],\n",
       "        [5.44731050e-01, 5.44731050e-01, 5.44731050e-01],\n",
       "        [1.26553776e-01, 1.26553776e-01, 1.26553776e-01]],\n",
       "\n",
       "       [[6.91304932e-01, 6.91304932e-01, 6.91304932e-01],\n",
       "        [7.32021646e-02, 7.32021646e-02, 7.32021646e-02],\n",
       "        [1.04522206e-01, 1.04522206e-01, 1.04522206e-01],\n",
       "        [1.62849410e-01, 1.62849410e-01, 1.62849410e-01],\n",
       "        [1.86902948e-02, 1.86902948e-02, 1.86902948e-02],\n",
       "        [3.14221857e-01, 3.14221857e-01, 3.14221857e-01],\n",
       "        [8.67304933e-01, 8.67304933e-01, 8.67304933e-01],\n",
       "        [2.75252672e-02, 2.75252672e-02, 2.75252672e-02],\n",
       "        [4.12548421e-01, 4.12548421e-01, 4.12548421e-01],\n",
       "        [6.90883183e-02, 6.90883183e-02, 6.90883183e-02]],\n",
       "\n",
       "       [[8.85568386e-01, 8.85568386e-01, 8.85568386e-01],\n",
       "        [5.94432665e-01, 5.94432665e-01, 5.94432665e-01],\n",
       "        [6.95348375e-01, 6.95348375e-01, 6.95348375e-01],\n",
       "        [2.46233580e-01, 2.46233580e-01, 2.46233580e-01],\n",
       "        [4.09295663e-01, 4.09295663e-01, 4.09295663e-01],\n",
       "        [3.50036018e-01, 3.50036018e-01, 3.50036018e-01],\n",
       "        [2.75927440e-01, 2.75927440e-01, 2.75927440e-01],\n",
       "        [6.45044305e-01, 6.45044305e-01, 6.45044305e-01],\n",
       "        [9.25078117e-01, 9.25078117e-01, 9.25078117e-01],\n",
       "        [3.49728679e-01, 3.49728679e-01, 3.49728679e-01]],\n",
       "\n",
       "       [[4.57175179e-01, 4.57175179e-01, 4.57175179e-01],\n",
       "        [4.73800270e-01, 4.73800270e-01, 4.73800270e-01],\n",
       "        [9.53574181e-01, 9.53574181e-01, 9.53574181e-01],\n",
       "        [3.92580338e-01, 3.92580338e-01, 3.92580338e-01],\n",
       "        [2.72048977e-01, 2.72048977e-01, 2.72048977e-01],\n",
       "        [9.00851760e-01, 9.00851760e-01, 9.00851760e-01],\n",
       "        [3.80862671e-01, 3.80862671e-01, 3.80862671e-01],\n",
       "        [7.69459957e-01, 7.69459957e-01, 7.69459957e-01],\n",
       "        [7.98583275e-01, 7.98583275e-01, 7.98583275e-01],\n",
       "        [2.17202106e-01, 2.17202106e-01, 2.17202106e-01]],\n",
       "\n",
       "       [[1.21291742e-01, 1.21291742e-01, 1.21291742e-01],\n",
       "        [3.32086807e-01, 3.32086807e-01, 3.32086807e-01],\n",
       "        [9.91482075e-01, 9.91482075e-01, 9.91482075e-01],\n",
       "        [9.53808630e-02, 9.53808630e-02, 9.53808630e-02],\n",
       "        [5.66668275e-01, 5.66668275e-01, 5.66668275e-01],\n",
       "        [1.78991104e-01, 1.78991104e-01, 1.78991104e-01],\n",
       "        [8.06952918e-01, 8.06952918e-01, 8.06952918e-01],\n",
       "        [5.78328070e-01, 5.78328070e-01, 5.78328070e-01],\n",
       "        [3.49218293e-01, 3.49218293e-01, 3.49218293e-01],\n",
       "        [1.17301249e-01, 1.17301249e-01, 1.17301249e-01]],\n",
       "\n",
       "       [[2.44953860e-02, 2.44953860e-02, 2.44953860e-02],\n",
       "        [1.88576919e-01, 1.88576919e-01, 1.88576919e-01],\n",
       "        [1.54455468e-01, 1.54455468e-01, 1.54455468e-01],\n",
       "        [8.48379126e-01, 8.48379126e-01, 8.48379126e-01],\n",
       "        [2.61575163e-01, 2.61575163e-01, 2.61575163e-01],\n",
       "        [4.44833460e-01, 4.44833460e-01, 4.44833460e-01],\n",
       "        [8.12231941e-02, 8.12231941e-02, 8.12231941e-02],\n",
       "        [1.79987109e-01, 1.79987109e-01, 1.79987109e-01],\n",
       "        [2.90434793e-02, 2.90434793e-02, 2.90434793e-02],\n",
       "        [2.90207838e-01, 2.90207838e-01, 2.90207838e-01]],\n",
       "\n",
       "       [[4.92361399e-01, 4.92361399e-01, 4.92361399e-01],\n",
       "        [8.49346937e-01, 8.49346937e-01, 8.49346937e-01],\n",
       "        [5.35308457e-01, 5.35308457e-01, 5.35308457e-01],\n",
       "        [4.76084110e-01, 4.76084110e-01, 4.76084110e-01],\n",
       "        [6.40233386e-01, 6.40233386e-01, 6.40233386e-01],\n",
       "        [1.52597411e-01, 1.52597411e-01, 1.52597411e-01],\n",
       "        [1.09145525e-01, 1.09145525e-01, 1.09145525e-01],\n",
       "        [2.37721428e-01, 2.37721428e-01, 2.37721428e-01],\n",
       "        [1.48596697e-02, 1.48596697e-02, 1.48596697e-02],\n",
       "        [5.31232205e-01, 5.31232205e-01, 5.31232205e-01]],\n",
       "\n",
       "       [[2.52020437e-01, 2.52020437e-01, 2.52020437e-01],\n",
       "        [1.29534484e-01, 1.29534484e-01, 1.29534484e-01],\n",
       "        [9.59073704e-01, 9.59073704e-01, 9.59073704e-01],\n",
       "        [2.91263331e-01, 2.91263331e-01, 2.91263331e-01],\n",
       "        [1.10433481e-01, 1.10433481e-01, 1.10433481e-01],\n",
       "        [6.42895332e-01, 6.42895332e-01, 6.42895332e-01],\n",
       "        [8.96435506e-02, 8.96435506e-02, 8.96435506e-02],\n",
       "        [8.86230016e-01, 8.86230016e-01, 8.86230016e-01],\n",
       "        [4.78654768e-01, 4.78654768e-01, 4.78654768e-01],\n",
       "        [8.74541834e-01, 8.74541834e-01, 8.74541834e-01]],\n",
       "\n",
       "       [[6.42560554e-01, 6.42560554e-01, 6.42560554e-01],\n",
       "        [9.38837556e-01, 9.38837556e-01, 9.38837556e-01],\n",
       "        [7.92051876e-02, 7.92051876e-02, 7.92051876e-02],\n",
       "        [7.74695855e-01, 7.74695855e-01, 7.74695855e-01],\n",
       "        [9.63111207e-01, 9.63111207e-01, 9.63111207e-01],\n",
       "        [5.79079598e-01, 5.79079598e-01, 5.79079598e-01],\n",
       "        [5.38473453e-01, 5.38473453e-01, 5.38473453e-01],\n",
       "        [6.58976509e-01, 6.58976509e-01, 6.58976509e-01],\n",
       "        [7.11642463e-01, 7.11642463e-01, 7.11642463e-01],\n",
       "        [4.03549792e-01, 4.03549792e-01, 4.03549792e-01]],\n",
       "\n",
       "       [[2.86531001e-01, 2.86531001e-01, 2.86531001e-01],\n",
       "        [6.10808061e-01, 6.10808061e-01, 6.10808061e-01],\n",
       "        [2.32705878e-01, 2.32705878e-01, 2.32705878e-01],\n",
       "        [3.81632118e-01, 3.81632118e-01, 3.81632118e-01],\n",
       "        [6.87054306e-01, 6.87054306e-01, 6.87054306e-01],\n",
       "        [6.53070030e-01, 6.53070030e-01, 6.53070030e-01],\n",
       "        [7.78162037e-01, 7.78162037e-01, 7.78162037e-01],\n",
       "        [3.20249696e-01, 3.20249696e-01, 3.20249696e-01],\n",
       "        [4.19073348e-01, 4.19073348e-01, 4.19073348e-01],\n",
       "        [3.57067373e-01, 3.57067373e-01, 3.57067373e-01]],\n",
       "\n",
       "       [[3.99236120e-01, 3.99236120e-01, 3.99236120e-01],\n",
       "        [8.91857911e-01, 8.91857911e-01, 8.91857911e-01],\n",
       "        [9.18343161e-01, 9.18343161e-01, 9.18343161e-01],\n",
       "        [1.04419215e-01, 1.04419215e-01, 1.04419215e-01],\n",
       "        [7.64783292e-01, 7.64783292e-01, 7.64783292e-01],\n",
       "        [6.98457488e-01, 6.98457488e-01, 6.98457488e-01],\n",
       "        [1.15060927e-01, 1.15060927e-01, 1.15060927e-01],\n",
       "        [8.22393399e-01, 8.22393399e-01, 8.22393399e-01],\n",
       "        [6.92003908e-01, 6.92003908e-01, 6.92003908e-01],\n",
       "        [8.64766979e-01, 8.64766979e-01, 8.64766979e-01]],\n",
       "\n",
       "       [[5.89154539e-01, 5.89154539e-01, 5.89154539e-01],\n",
       "        [3.82817457e-02, 3.82817457e-02, 3.82817457e-02],\n",
       "        [2.34037976e-01, 2.34037976e-01, 2.34037976e-01],\n",
       "        [6.14314505e-02, 6.14314505e-02, 6.14314505e-02],\n",
       "        [5.72143480e-02, 5.72143480e-02, 5.72143480e-02],\n",
       "        [8.80060284e-01, 8.80060284e-01, 8.80060284e-01],\n",
       "        [8.38079197e-01, 8.38079197e-01, 8.38079197e-01],\n",
       "        [6.42648413e-01, 6.42648413e-01, 6.42648413e-01],\n",
       "        [5.61583733e-01, 5.61583733e-01, 5.61583733e-01],\n",
       "        [6.73899295e-01, 6.73899295e-01, 6.73899295e-01]],\n",
       "\n",
       "       [[1.29117488e-01, 1.29117488e-01, 1.29117488e-01],\n",
       "        [6.50597854e-02, 6.50597854e-02, 6.50597854e-02],\n",
       "        [5.22347023e-01, 5.22347023e-01, 5.22347023e-01],\n",
       "        [8.49724018e-01, 8.49724018e-01, 8.49724018e-01],\n",
       "        [9.19677346e-02, 9.19677346e-02, 9.19677346e-02],\n",
       "        [4.60288853e-01, 4.60288853e-01, 4.60288853e-01],\n",
       "        [8.08630628e-01, 8.08630628e-01, 8.08630628e-01],\n",
       "        [6.26105390e-02, 6.26105390e-02, 6.26105390e-02],\n",
       "        [4.21228537e-01, 4.21228537e-01, 4.21228537e-01],\n",
       "        [8.45171861e-01, 8.45171861e-01, 8.45171861e-01]],\n",
       "\n",
       "       [[3.12621619e-01, 3.12621619e-01, 3.12621619e-01],\n",
       "        [7.04787757e-01, 7.04787757e-01, 7.04787757e-01],\n",
       "        [1.22342560e-01, 1.22342560e-01, 1.22342560e-01],\n",
       "        [7.72750409e-01, 7.72750409e-01, 7.72750409e-01],\n",
       "        [2.83497895e-01, 2.83497895e-01, 2.83497895e-01],\n",
       "        [3.60403872e-01, 3.60403872e-01, 3.60403872e-01],\n",
       "        [7.72585324e-01, 7.72585324e-01, 7.72585324e-01],\n",
       "        [7.01819672e-01, 7.01819672e-01, 7.01819672e-01],\n",
       "        [6.98856583e-01, 6.98856583e-01, 6.98856583e-01],\n",
       "        [6.14870457e-01, 6.14870457e-01, 6.14870457e-01]],\n",
       "\n",
       "       [[9.13664845e-01, 9.13664845e-01, 9.13664845e-01],\n",
       "        [2.84426142e-01, 2.84426142e-01, 2.84426142e-01],\n",
       "        [5.30637284e-01, 5.30637284e-01, 5.30637284e-01],\n",
       "        [8.51337573e-01, 8.51337573e-01, 8.51337573e-01],\n",
       "        [1.64830359e-01, 1.64830359e-01, 1.64830359e-01],\n",
       "        [7.96975018e-01, 7.96975018e-01, 7.96975018e-01],\n",
       "        [5.99835747e-01, 5.99835747e-01, 5.99835747e-01],\n",
       "        [6.34893888e-01, 6.34893888e-01, 6.34893888e-01],\n",
       "        [2.45861433e-01, 2.45861433e-01, 2.45861433e-01],\n",
       "        [2.60727357e-01, 2.60727357e-01, 2.60727357e-01]],\n",
       "\n",
       "       [[1.91427240e-01, 1.91427240e-01, 1.91427240e-01],\n",
       "        [8.59209155e-01, 8.59209155e-01, 8.59209155e-01],\n",
       "        [4.68710653e-01, 4.68710653e-01, 4.68710653e-01],\n",
       "        [4.57855291e-01, 4.57855291e-01, 4.57855291e-01],\n",
       "        [8.36583821e-01, 8.36583821e-01, 8.36583821e-01],\n",
       "        [1.52804478e-01, 1.52804478e-01, 1.52804478e-01],\n",
       "        [5.38531832e-01, 5.38531832e-01, 5.38531832e-01],\n",
       "        [9.38422072e-01, 9.38422072e-01, 9.38422072e-01],\n",
       "        [4.84326020e-01, 4.84326020e-01, 4.84326020e-01],\n",
       "        [8.83406303e-01, 8.83406303e-01, 8.83406303e-01]],\n",
       "\n",
       "       [[5.51759387e-02, 5.51759387e-02, 5.51759387e-02],\n",
       "        [8.49929519e-01, 8.49929519e-01, 8.49929519e-01],\n",
       "        [2.02980506e-01, 2.02980506e-01, 2.02980506e-01],\n",
       "        [3.52572468e-01, 3.52572468e-01, 3.52572468e-01],\n",
       "        [5.65503350e-01, 5.65503350e-01, 5.65503350e-01],\n",
       "        [4.31281419e-01, 4.31281419e-01, 4.31281419e-01],\n",
       "        [6.36589251e-02, 6.36589251e-02, 6.36589251e-02],\n",
       "        [2.14218804e-01, 2.14218804e-01, 2.14218804e-01],\n",
       "        [4.07585968e-01, 4.07585968e-01, 4.07585968e-01],\n",
       "        [5.71887398e-01, 5.71887398e-01, 5.71887398e-01]],\n",
       "\n",
       "       [[5.61633004e-01, 5.61633004e-01, 5.61633004e-01],\n",
       "        [5.76166855e-01, 5.76166855e-01, 5.76166855e-01],\n",
       "        [5.91801489e-01, 5.91801489e-01, 5.91801489e-01],\n",
       "        [4.30768978e-01, 4.30768978e-01, 4.30768978e-01],\n",
       "        [3.53413193e-01, 3.53413193e-01, 3.53413193e-01],\n",
       "        [2.01497709e-02, 2.01497709e-02, 2.01497709e-02],\n",
       "        [7.92240743e-01, 7.92240743e-01, 7.92240743e-01],\n",
       "        [9.75912001e-02, 9.75912001e-02, 9.75912001e-02],\n",
       "        [9.20827101e-01, 9.20827101e-01, 9.20827101e-01],\n",
       "        [9.68753876e-02, 9.68753876e-02, 9.68753876e-02]],\n",
       "\n",
       "       [[5.60391114e-01, 5.60391114e-01, 5.60391114e-01],\n",
       "        [7.42073136e-01, 7.42073136e-01, 7.42073136e-01],\n",
       "        [8.63220035e-01, 8.63220035e-01, 8.63220035e-01],\n",
       "        [9.24977451e-01, 9.24977451e-01, 9.24977451e-01],\n",
       "        [1.76839799e-01, 1.76839799e-01, 1.76839799e-01],\n",
       "        [4.99292358e-01, 4.99292358e-01, 4.99292358e-01],\n",
       "        [6.55144015e-01, 6.55144015e-01, 6.55144015e-01],\n",
       "        [1.93449300e-01, 1.93449300e-01, 1.93449300e-01],\n",
       "        [8.90921189e-01, 8.90921189e-01, 8.90921189e-01],\n",
       "        [1.10748224e-01, 1.10748224e-01, 1.10748224e-01]]])"
      ]
     },
     "execution_count": 20,
     "metadata": {},
     "output_type": "execute_result"
    }
   ],
   "source": [
    "pr = np.stack((s,)* 3, -1)\n",
    "pr"
   ]
  },
  {
   "cell_type": "code",
   "execution_count": 22,
   "metadata": {},
   "outputs": [
    {
     "data": {
      "text/plain": [
       "array([[0.01321659],\n",
       "       [0.0192    ],\n",
       "       [0.06402056]])"
      ]
     },
     "execution_count": 22,
     "metadata": {},
     "output_type": "execute_result"
    }
   ],
   "source": [
    "prs = np.random.rand(3,1)\n",
    "prs"
   ]
  },
  {
   "cell_type": "code",
   "execution_count": 24,
   "metadata": {},
   "outputs": [
    {
     "data": {
      "text/plain": [
       "array([[[0.01321659, 0.01321659, 0.01321659]],\n",
       "\n",
       "       [[0.0192    , 0.0192    , 0.0192    ]],\n",
       "\n",
       "       [[0.06402056, 0.06402056, 0.06402056]]])"
      ]
     },
     "execution_count": 24,
     "metadata": {},
     "output_type": "execute_result"
    }
   ],
   "source": [
    "spb = np.stack((prs,)*3, -1)\n",
    "spb"
   ]
  },
  {
   "cell_type": "code",
   "execution_count": null,
   "metadata": {},
   "outputs": [],
   "source": []
  }
 ],
 "metadata": {
  "kernelspec": {
   "display_name": "Python 3",
   "language": "python",
   "name": "python3"
  },
  "language_info": {
   "codemirror_mode": {
    "name": "ipython",
    "version": 3
   },
   "file_extension": ".py",
   "mimetype": "text/x-python",
   "name": "python",
   "nbconvert_exporter": "python",
   "pygments_lexer": "ipython3",
   "version": "3.7.6"
  }
 },
 "nbformat": 4,
 "nbformat_minor": 4
}
